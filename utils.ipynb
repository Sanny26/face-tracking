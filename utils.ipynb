{
 "cells": [
  {
   "cell_type": "code",
   "execution_count": 8,
   "metadata": {},
   "outputs": [],
   "source": [
    "import cv2\n",
    "import imageio\n",
    "\n",
    "def video_to_gif(video_path, output_gif, fps=10):\n",
    "    vid = cv2.VideoCapture(video_path)\n",
    "    frames = []\n",
    "\n",
    "    while True:\n",
    "        ret, frame = vid.read()\n",
    "        if not ret:\n",
    "            break\n",
    "        frame = cv2.resize(cv2.cvtColor(frame, cv2.COLOR_BGR2RGB), (300, 200))\n",
    "        frames.append(frame)\n",
    "        if len(frames) > 200:\n",
    "            break\n",
    "\n",
    "    vid.release()\n",
    "    imageio.mimsave(output_gif, frames,  duration=0.05, loop=0)\n",
    "\n",
    "# Example usage\n",
    "# video_to_gif(\"video_out2.mp4\", \"samples/2.gif\", fps=10)"
   ]
  },
  {
   "cell_type": "code",
   "execution_count": 9,
   "metadata": {},
   "outputs": [],
   "source": [
    "video_to_gif(\"results1/clip_54.mp4\", \"samples/3.gif\")"
   ]
  },
  {
   "cell_type": "code",
   "execution_count": null,
   "metadata": {},
   "outputs": [],
   "source": []
  }
 ],
 "metadata": {
  "kernelspec": {
   "display_name": "facet",
   "language": "python",
   "name": "python3"
  },
  "language_info": {
   "codemirror_mode": {
    "name": "ipython",
    "version": 3
   },
   "file_extension": ".py",
   "mimetype": "text/x-python",
   "name": "python",
   "nbconvert_exporter": "python",
   "pygments_lexer": "ipython3",
   "version": "3.9.21"
  }
 },
 "nbformat": 4,
 "nbformat_minor": 2
}
